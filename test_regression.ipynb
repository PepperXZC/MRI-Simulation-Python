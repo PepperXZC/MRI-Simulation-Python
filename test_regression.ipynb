{
 "cells": [
  {
   "cell_type": "code",
   "execution_count": 1,
   "metadata": {},
   "outputs": [
    {
     "data": {
      "text/plain": [
       "tensor([ 15.1000, 115.1000, 215.1000, 315.1000, 415.1000, 575.2000, 675.2000,\n",
       "        775.2000])"
      ]
     },
     "execution_count": 1,
     "metadata": {},
     "output_type": "execute_result"
    }
   ],
   "source": [
    "import torch\n",
    "y = torch.Tensor([-0.7816, -0.6536,  0.2293,  0.2763,  0.5942,  0.6116,  0.7318,  0.7828])\n",
    "# x = torch.arange(0, 8, 1)\n",
    "x = torch.Tensor([ 15.1000, 115.1000, 215.1000, 315.1000, 415.1000, 575.2000, 675.2000,\n",
    "        775.2000])\n",
    "x"
   ]
  },
  {
   "cell_type": "code",
   "execution_count": 2,
   "metadata": {},
   "outputs": [],
   "source": [
    "A = torch.randn(1, requires_grad=True)\n",
    "B = torch.randn(1, requires_grad=True)\n",
    "t1 = torch.ones(1, requires_grad=True)\n",
    "\n",
    "def model(x, A, B, t1):\n",
    "    return A - B * torch.exp(- x / t1)\n",
    "\n",
    "def squared_loss(y_hat, y):  #@save\n",
    "    \"\"\"均方损失\"\"\"\n",
    "    return (y_hat - y.reshape(y_hat.shape)) ** 2 / 2\n",
    "\n",
    "def sgd(params, lr, batch_size):  #@save\n",
    "    \"\"\"小批量随机梯度下降\"\"\"\n",
    "    with torch.no_grad():\n",
    "        for param in params:\n",
    "            param -= lr * param.grad / batch_size\n",
    "            param.grad.zero_()"
   ]
  },
  {
   "cell_type": "code",
   "execution_count": 3,
   "metadata": {},
   "outputs": [
    {
     "name": "stdout",
     "output_type": "stream",
     "text": [
      "epoch 1, loss 0.310016\n",
      "epoch 2, loss 0.282482\n",
      "epoch 3, loss 0.260179\n",
      "epoch 4, loss 0.242114\n",
      "epoch 5, loss 0.227481\n",
      "epoch 6, loss 0.215628\n",
      "epoch 7, loss 0.206027\n",
      "epoch 8, loss 0.198251\n",
      "epoch 9, loss 0.191952\n",
      "epoch 10, loss 0.186850\n",
      "epoch 11, loss 0.182717\n",
      "epoch 12, loss 0.179370\n",
      "epoch 13, loss 0.176658\n",
      "epoch 14, loss 0.174462\n",
      "epoch 15, loss 0.172683\n",
      "epoch 16, loss 0.171242\n",
      "epoch 17, loss 0.170075\n",
      "epoch 18, loss 0.169129\n",
      "epoch 19, loss 0.168363\n",
      "epoch 20, loss 0.167743\n",
      "epoch 21, loss 0.167241\n",
      "epoch 22, loss 0.166834\n",
      "epoch 23, loss 0.166504\n",
      "epoch 24, loss 0.166237\n",
      "epoch 25, loss 0.166021\n",
      "epoch 26, loss 0.165845\n",
      "epoch 27, loss 0.165703\n",
      "epoch 28, loss 0.165589\n",
      "epoch 29, loss 0.165495\n",
      "epoch 30, loss 0.165420\n",
      "epoch 31, loss 0.165359\n",
      "epoch 32, loss 0.165309\n",
      "epoch 33, loss 0.165269\n",
      "epoch 34, loss 0.165237\n",
      "epoch 35, loss 0.165211\n",
      "epoch 36, loss 0.165189\n",
      "epoch 37, loss 0.165172\n",
      "epoch 38, loss 0.165158\n",
      "epoch 39, loss 0.165147\n",
      "epoch 40, loss 0.165138\n",
      "epoch 41, loss 0.165130\n",
      "epoch 42, loss 0.165124\n",
      "epoch 43, loss 0.165119\n",
      "epoch 44, loss 0.165115\n",
      "epoch 45, loss 0.165112\n",
      "epoch 46, loss 0.165110\n",
      "epoch 47, loss 0.165107\n",
      "epoch 48, loss 0.165106\n",
      "epoch 49, loss 0.165104\n",
      "epoch 50, loss 0.165103\n",
      "epoch 51, loss 0.165102\n",
      "epoch 52, loss 0.165102\n",
      "epoch 53, loss 0.165101\n",
      "epoch 54, loss 0.165101\n",
      "epoch 55, loss 0.165100\n",
      "epoch 56, loss 0.165100\n",
      "epoch 57, loss 0.165100\n",
      "epoch 58, loss 0.165099\n",
      "epoch 59, loss 0.165099\n",
      "epoch 60, loss 0.165099\n",
      "epoch 61, loss 0.165099\n",
      "epoch 62, loss 0.165099\n",
      "epoch 63, loss 0.165099\n",
      "epoch 64, loss 0.165099\n",
      "epoch 65, loss 0.165099\n",
      "epoch 66, loss 0.165099\n",
      "epoch 67, loss 0.165099\n",
      "epoch 68, loss 0.165099\n",
      "epoch 69, loss 0.165099\n",
      "epoch 70, loss 0.165099\n",
      "epoch 71, loss 0.165099\n",
      "epoch 72, loss 0.165099\n",
      "epoch 73, loss 0.165099\n",
      "epoch 74, loss 0.165099\n",
      "epoch 75, loss 0.165099\n",
      "epoch 76, loss 0.165099\n",
      "epoch 77, loss 0.165099\n",
      "epoch 78, loss 0.165099\n",
      "epoch 79, loss 0.165099\n",
      "epoch 80, loss 0.165099\n",
      "epoch 81, loss 0.165099\n",
      "epoch 82, loss 0.165099\n",
      "epoch 83, loss 0.165099\n",
      "epoch 84, loss 0.165099\n",
      "epoch 85, loss 0.165099\n",
      "epoch 86, loss 0.165099\n",
      "epoch 87, loss 0.165099\n",
      "epoch 88, loss 0.165099\n",
      "epoch 89, loss 0.165099\n",
      "epoch 90, loss 0.165099\n",
      "epoch 91, loss 0.165099\n",
      "epoch 92, loss 0.165099\n",
      "epoch 93, loss 0.165099\n",
      "epoch 94, loss 0.165099\n",
      "epoch 95, loss 0.165099\n",
      "epoch 96, loss 0.165099\n",
      "epoch 97, loss 0.165099\n",
      "epoch 98, loss 0.165099\n",
      "epoch 99, loss 0.165099\n",
      "epoch 100, loss 0.165099\n",
      "epoch 101, loss 0.165099\n",
      "epoch 102, loss 0.165099\n",
      "epoch 103, loss 0.165099\n",
      "epoch 104, loss 0.165099\n",
      "epoch 105, loss 0.165099\n",
      "epoch 106, loss 0.165099\n",
      "epoch 107, loss 0.165099\n",
      "epoch 108, loss 0.165099\n",
      "epoch 109, loss 0.165099\n",
      "epoch 110, loss 0.165099\n",
      "epoch 111, loss 0.165099\n",
      "epoch 112, loss 0.165099\n",
      "epoch 113, loss 0.165099\n",
      "epoch 114, loss 0.165099\n",
      "epoch 115, loss 0.165099\n",
      "epoch 116, loss 0.165099\n",
      "epoch 117, loss 0.165099\n",
      "epoch 118, loss 0.165099\n",
      "epoch 119, loss 0.165099\n",
      "epoch 120, loss 0.165099\n",
      "epoch 121, loss 0.165099\n",
      "epoch 122, loss 0.165099\n",
      "epoch 123, loss 0.165099\n",
      "epoch 124, loss 0.165099\n",
      "epoch 125, loss 0.165099\n",
      "epoch 126, loss 0.165099\n",
      "epoch 127, loss 0.165099\n",
      "epoch 128, loss 0.165099\n",
      "epoch 129, loss 0.165099\n",
      "epoch 130, loss 0.165099\n",
      "epoch 131, loss 0.165099\n",
      "epoch 132, loss 0.165099\n",
      "epoch 133, loss 0.165099\n",
      "epoch 134, loss 0.165099\n",
      "epoch 135, loss 0.165099\n",
      "epoch 136, loss 0.165099\n",
      "epoch 137, loss 0.165099\n",
      "epoch 138, loss 0.165099\n",
      "epoch 139, loss 0.165099\n",
      "epoch 140, loss 0.165099\n",
      "epoch 141, loss 0.165099\n",
      "epoch 142, loss 0.165099\n",
      "epoch 143, loss 0.165099\n",
      "epoch 144, loss 0.165099\n",
      "epoch 145, loss 0.165099\n",
      "epoch 146, loss 0.165099\n",
      "epoch 147, loss 0.165099\n",
      "epoch 148, loss 0.165099\n",
      "epoch 149, loss 0.165099\n",
      "epoch 150, loss 0.165099\n",
      "epoch 151, loss 0.165099\n",
      "epoch 152, loss 0.165099\n",
      "epoch 153, loss 0.165099\n",
      "epoch 154, loss 0.165099\n",
      "epoch 155, loss 0.165099\n",
      "epoch 156, loss 0.165099\n",
      "epoch 157, loss 0.165099\n",
      "epoch 158, loss 0.165099\n",
      "epoch 159, loss 0.165099\n",
      "epoch 160, loss 0.165099\n",
      "epoch 161, loss 0.165099\n",
      "epoch 162, loss 0.165099\n",
      "epoch 163, loss 0.165099\n",
      "epoch 164, loss 0.165099\n",
      "epoch 165, loss 0.165099\n",
      "epoch 166, loss 0.165099\n",
      "epoch 167, loss 0.165099\n",
      "epoch 168, loss 0.165099\n",
      "epoch 169, loss 0.165099\n",
      "epoch 170, loss 0.165099\n",
      "epoch 171, loss 0.165099\n",
      "epoch 172, loss 0.165099\n",
      "epoch 173, loss 0.165099\n",
      "epoch 174, loss 0.165099\n",
      "epoch 175, loss 0.165099\n",
      "epoch 176, loss 0.165099\n",
      "epoch 177, loss 0.165099\n",
      "epoch 178, loss 0.165099\n",
      "epoch 179, loss 0.165099\n",
      "epoch 180, loss 0.165099\n",
      "epoch 181, loss 0.165099\n",
      "epoch 182, loss 0.165099\n",
      "epoch 183, loss 0.165099\n",
      "epoch 184, loss 0.165099\n",
      "epoch 185, loss 0.165099\n",
      "epoch 186, loss 0.165099\n",
      "epoch 187, loss 0.165099\n",
      "epoch 188, loss 0.165099\n",
      "epoch 189, loss 0.165099\n",
      "epoch 190, loss 0.165099\n",
      "epoch 191, loss 0.165099\n",
      "epoch 192, loss 0.165099\n",
      "epoch 193, loss 0.165099\n",
      "epoch 194, loss 0.165099\n",
      "epoch 195, loss 0.165099\n",
      "epoch 196, loss 0.165099\n",
      "epoch 197, loss 0.165099\n",
      "epoch 198, loss 0.165099\n",
      "epoch 199, loss 0.165099\n",
      "epoch 200, loss 0.165099\n",
      "epoch 201, loss 0.165099\n",
      "epoch 202, loss 0.165099\n",
      "epoch 203, loss 0.165099\n",
      "epoch 204, loss 0.165099\n",
      "epoch 205, loss 0.165099\n",
      "epoch 206, loss 0.165099\n",
      "epoch 207, loss 0.165099\n",
      "epoch 208, loss 0.165099\n",
      "epoch 209, loss 0.165099\n",
      "epoch 210, loss 0.165099\n",
      "epoch 211, loss 0.165099\n",
      "epoch 212, loss 0.165099\n",
      "epoch 213, loss 0.165099\n",
      "epoch 214, loss 0.165099\n",
      "epoch 215, loss 0.165099\n",
      "epoch 216, loss 0.165099\n",
      "epoch 217, loss 0.165099\n",
      "epoch 218, loss 0.165099\n",
      "epoch 219, loss 0.165099\n",
      "epoch 220, loss 0.165099\n",
      "epoch 221, loss 0.165099\n",
      "epoch 222, loss 0.165099\n",
      "epoch 223, loss 0.165099\n",
      "epoch 224, loss 0.165099\n",
      "epoch 225, loss 0.165099\n",
      "epoch 226, loss 0.165099\n",
      "epoch 227, loss 0.165099\n",
      "epoch 228, loss 0.165099\n",
      "epoch 229, loss 0.165099\n",
      "epoch 230, loss 0.165099\n",
      "epoch 231, loss 0.165099\n",
      "epoch 232, loss 0.165099\n",
      "epoch 233, loss 0.165099\n",
      "epoch 234, loss 0.165099\n",
      "epoch 235, loss 0.165099\n",
      "epoch 236, loss 0.165099\n",
      "epoch 237, loss 0.165099\n",
      "epoch 238, loss 0.165099\n",
      "epoch 239, loss 0.165099\n",
      "epoch 240, loss 0.165099\n",
      "epoch 241, loss 0.165099\n",
      "epoch 242, loss 0.165099\n",
      "epoch 243, loss 0.165099\n",
      "epoch 244, loss 0.165099\n",
      "epoch 245, loss 0.165099\n",
      "epoch 246, loss 0.165099\n",
      "epoch 247, loss 0.165099\n",
      "epoch 248, loss 0.165099\n",
      "epoch 249, loss 0.165099\n",
      "epoch 250, loss 0.165099\n",
      "epoch 251, loss 0.165099\n",
      "epoch 252, loss 0.165099\n",
      "epoch 253, loss 0.165099\n",
      "epoch 254, loss 0.165099\n",
      "epoch 255, loss 0.165099\n",
      "epoch 256, loss 0.165099\n",
      "epoch 257, loss 0.165099\n",
      "epoch 258, loss 0.165099\n",
      "epoch 259, loss 0.165099\n",
      "epoch 260, loss 0.165099\n",
      "epoch 261, loss 0.165099\n",
      "epoch 262, loss 0.165099\n",
      "epoch 263, loss 0.165099\n",
      "epoch 264, loss 0.165099\n",
      "epoch 265, loss 0.165099\n",
      "epoch 266, loss 0.165099\n",
      "epoch 267, loss 0.165099\n",
      "epoch 268, loss 0.165099\n",
      "epoch 269, loss 0.165099\n",
      "epoch 270, loss 0.165099\n",
      "epoch 271, loss 0.165099\n",
      "epoch 272, loss 0.165099\n",
      "epoch 273, loss 0.165099\n",
      "epoch 274, loss 0.165099\n",
      "epoch 275, loss 0.165099\n",
      "epoch 276, loss 0.165099\n",
      "epoch 277, loss 0.165099\n",
      "epoch 278, loss 0.165099\n",
      "epoch 279, loss 0.165099\n",
      "epoch 280, loss 0.165099\n",
      "epoch 281, loss 0.165099\n",
      "epoch 282, loss 0.165099\n",
      "epoch 283, loss 0.165099\n",
      "epoch 284, loss 0.165099\n",
      "epoch 285, loss 0.165099\n",
      "epoch 286, loss 0.165099\n",
      "epoch 287, loss 0.165099\n",
      "epoch 288, loss 0.165099\n",
      "epoch 289, loss 0.165099\n",
      "epoch 290, loss 0.165099\n",
      "epoch 291, loss 0.165099\n",
      "epoch 292, loss 0.165099\n",
      "epoch 293, loss 0.165099\n",
      "epoch 294, loss 0.165099\n",
      "epoch 295, loss 0.165099\n",
      "epoch 296, loss 0.165099\n",
      "epoch 297, loss 0.165099\n",
      "epoch 298, loss 0.165099\n",
      "epoch 299, loss 0.165099\n",
      "epoch 300, loss 0.165099\n"
     ]
    },
    {
     "data": {
      "image/png": "[encoded data removed]",
      "text/plain": [
       "<Figure size 640x480 with 1 Axes>"
      ]
     },
     "metadata": {},
     "output_type": "display_data"
    }
   ],
   "source": [
    "import matplotlib.pyplot as plt\n",
    "lr = 0.1\n",
    "num_epochs = 300\n",
    "net = model\n",
    "loss = squared_loss\n",
    "for epoch in range(num_epochs):\n",
    "    # for X, y in data_iter(batch_size, features, labels):\n",
    "    l = loss(net(x, A, B, t1), y)  # X和y的小批量损失\n",
    "    # 因为l形状是(batch_size,1)，而不是一个标量。l中的所有元素被加到一起，\n",
    "    # 并以此计算关于[w,b]的梯度\n",
    "    l.mean().backward()\n",
    "    y_to_plot = net(x, A, B, t1)\n",
    "     \n",
    "    sgd([A, B, t1], lr, batch_size=1)  # 使用参数的梯度更新参数\n",
    "    with torch.no_grad():\n",
    "        train_l = loss(net(x, A, B, t1), y)\n",
    "        print(f'epoch {epoch + 1}, loss {float(train_l.mean()):f}')\n",
    "plt.plot(x,y_to_plot.detach().numpy())        # 画出当前 ax 列表和 ay 列表中的值的图形\n",
    "plt.scatter(x, y)\n",
    "plt.show()"
   ]
  },
  {
   "cell_type": "code",
   "execution_count": 5,
   "metadata": {},
   "outputs": [
    {
     "data": {
      "text/plain": [
       "[<matplotlib.lines.Line2D at 0x24e0802d5e0>]"
      ]
     },
     "execution_count": 5,
     "metadata": {},
     "output_type": "execute_result"
    },
    {
     "data": {
      "image/png": "[encoded data removed]",
      "text/plain": [
       "<Figure size 640x480 with 1 Axes>"
      ]
     },
     "metadata": {},
     "output_type": "display_data"
    }
   ],
   "source": [
    "plt.plot(x, model(x, A=0.367489, B=7.717559, t1=7.928530))"
   ]
  },
  {
   "cell_type": "code",
   "execution_count": 6,
   "metadata": {},
   "outputs": [
    {
     "ename": "TypeError",
     "evalue": "bad operand type for unary -: 'list'",
     "output_type": "error",
     "traceback": [
      "\u001b[1;31m---------------------------------------------------------------------------\u001b[0m",
      "\u001b[1;31mTypeError\u001b[0m                                 Traceback (most recent call last)",
      "Cell \u001b[1;32mIn[6], line 1\u001b[0m\n\u001b[1;32m----> 1\u001b[0m model(x\u001b[39m=\u001b[39;49m[\u001b[39m215.1000\u001b[39;49m, \u001b[39m315.1000\u001b[39;49m, \u001b[39m415.1000\u001b[39;49m, \u001b[39m575.2000\u001b[39;49m, \u001b[39m675.2000\u001b[39;49m], A\u001b[39m=\u001b[39;49m\u001b[39m0.367489\u001b[39;49m, B\u001b[39m=\u001b[39;49m\u001b[39m7.717559\u001b[39;49m, t1\u001b[39m=\u001b[39;49m\u001b[39m7.928530\u001b[39;49m)\n",
      "Cell \u001b[1;32mIn[2], line 6\u001b[0m, in \u001b[0;36mmodel\u001b[1;34m(x, A, B, t1)\u001b[0m\n\u001b[0;32m      5\u001b[0m \u001b[39mdef\u001b[39;00m \u001b[39mmodel\u001b[39m(x, A, B, t1):\n\u001b[1;32m----> 6\u001b[0m     \u001b[39mreturn\u001b[39;00m A \u001b[39m-\u001b[39m B \u001b[39m*\u001b[39m torch\u001b[39m.\u001b[39mexp(\u001b[39m-\u001b[39;49m x \u001b[39m/\u001b[39m t1)\n",
      "\u001b[1;31mTypeError\u001b[0m: bad operand type for unary -: 'list'"
     ]
    }
   ],
   "source": [
    "model(x=torch.Tensor([215.1000, 315.1000, 415.1000, 575.2000, 675.2000]), A=0.367489, B=7.717559, t1=7.928530)"
   ]
  },
  {
   "cell_type": "code",
   "execution_count": null,
   "metadata": {},
   "outputs": [],
   "source": [
    "torch.mean(a, dim=0).shape"
   ]
  },
  {
   "cell_type": "code",
   "execution_count": 5,
   "metadata": {},
   "outputs": [
    {
     "data": {
      "text/plain": [
       "26.684727594176476"
      ]
     },
     "execution_count": 5,
     "metadata": {},
     "output_type": "execute_result"
    }
   ],
   "source": [
    "import numpy as np\n",
    "np.arccos((800 / 45 - 1) / (800 / 45 + 1)) * 180 / np.pi"
   ]
  },
  {
   "cell_type": "code",
   "execution_count": 2,
   "metadata": {},
   "outputs": [
    {
     "name": "stdout",
     "output_type": "stream",
     "text": [
      "tensor([[[ 2.1183,  0.1123,  0.8996],\n",
      "         [-0.8584,  0.5891,  0.5237],\n",
      "         [ 0.0870,  0.3018, -0.2717]],\n",
      "\n",
      "        [[ 0.4697, -1.4929, -0.4827],\n",
      "         [-1.2100,  0.2395,  1.3675],\n",
      "         [-0.7157, -2.2865, -0.6358]],\n",
      "\n",
      "        [[ 0.0226,  1.2690, -0.0514],\n",
      "         [-0.7070, -0.9262, -0.6619],\n",
      "         [ 0.3658,  0.1343,  0.5166]]])\n"
     ]
    }
   ],
   "source": [
    "import torch\n",
    "mat = torch.randn(3,3,3)\n",
    "print(mat)"
   ]
  },
  {
   "cell_type": "code",
   "execution_count": 4,
   "metadata": {},
   "outputs": [
    {
     "data": {
      "text/plain": [
       "tensor([[[ 0.0226,  1.2690, -0.0514],\n",
       "         [-0.7070, -0.9262, -0.6619],\n",
       "         [ 0.3658,  0.1343,  0.5166]],\n",
       "\n",
       "        [[ 2.1183,  0.1123,  0.8996],\n",
       "         [-0.8584,  0.5891,  0.5237],\n",
       "         [ 0.0870,  0.3018, -0.2717]],\n",
       "\n",
       "        [[ 0.4697, -1.4929, -0.4827],\n",
       "         [-1.2100,  0.2395,  1.3675],\n",
       "         [-0.7157, -2.2865, -0.6358]]])"
      ]
     },
     "execution_count": 4,
     "metadata": {},
     "output_type": "execute_result"
    }
   ],
   "source": [
    "torch.roll(mat, 1, 0)"
   ]
  },
  {
   "cell_type": "code",
   "execution_count": 13,
   "metadata": {},
   "outputs": [],
   "source": [
    "import math\n",
    "def zrot(phi):\n",
    "    Rz = torch.Tensor(\n",
    "        # [[math.cos(phi),-math.sin(phi),0],\n",
    "        [[math.cos(phi),math.sin(phi),0],\n",
    "        [-math.sin(phi),math.cos(phi),0],\n",
    "        [0, 0, 1]]\n",
    "        )\n",
    "    return Rz"
   ]
  },
  {
   "cell_type": "code",
   "execution_count": 14,
   "metadata": {},
   "outputs": [],
   "source": [
    "import math\n",
    "# 这里 t 是一个数，不是矩阵\n",
    "def res(t, T1, T2, df):\n",
    "    # phi = 2*math.pi*df*t/1000\n",
    "    phi = df*t*2*math.pi / 1000 \n",
    "    E1 = math.exp(-t/T1)\n",
    "    E2 = math.exp(-t/T2)\n",
    "    z = zrot(phi)\n",
    "    A = torch.Tensor([\n",
    "        [E2,0,0],\n",
    "        [0,E2,0],\n",
    "        [0,0,E1]\n",
    "    ]) @ z\n",
    "    B = torch.Tensor([0,0,1-E1]).T\n",
    "    return A, B"
   ]
  },
  {
   "cell_type": "code",
   "execution_count": 17,
   "metadata": {},
   "outputs": [
    {
     "name": "stdout",
     "output_type": "stream",
     "text": [
      "tensor([ 0.0000, -0.4111,  0.0392])\n",
      "tensor([ 0.0000, -0.4111,  0.0392])\n"
     ]
    }
   ],
   "source": [
    "m0 = torch.Tensor([0, -1, 0]).T\n",
    "A_2, B_2 = res(20, 1000, 45, 0)\n",
    "A_4, B_4 = res(40, 1000, 45, 0)\n",
    "print(m0 @ A_4.T + B_4)\n",
    "print((m0 @ A_2.T + B_2) @ A_2.T + B_2)"
   ]
  },
  {
   "cell_type": "code",
   "execution_count": 2,
   "metadata": {},
   "outputs": [
    {
     "data": {
      "text/plain": [
       "62.99999999999999"
      ]
     },
     "execution_count": 2,
     "metadata": {},
     "output_type": "execute_result"
    }
   ],
   "source": [
    "2 * 9.247299201503052 / 0.29356505401596994"
   ]
  },
  {
   "cell_type": "code",
   "execution_count": 5,
   "metadata": {},
   "outputs": [
    {
     "data": {
      "text/plain": [
       "0.1467825270079839"
      ]
     },
     "execution_count": 5,
     "metadata": {},
     "output_type": "execute_result"
    }
   ],
   "source": [
    "[9.247299201503052 - m * 0.29356505401596994 for m in range(64)][31]"
   ]
  },
  {
   "cell_type": "code",
   "execution_count": 6,
   "metadata": {},
   "outputs": [
    {
     "data": {
      "text/plain": [
       "-1.651303428839831"
      ]
     },
     "execution_count": 6,
     "metadata": {},
     "output_type": "execute_result"
    }
   ],
   "source": [
    "1.651303428839831 - 63 * 0.05242233107428035"
   ]
  },
  {
   "cell_type": "code",
   "execution_count": 1,
   "metadata": {},
   "outputs": [
    {
     "data": {
      "text/plain": [
       "32.0"
      ]
     },
     "execution_count": 1,
     "metadata": {},
     "output_type": "execute_result"
    }
   ],
   "source": [
    "1.6775145943769711 / 0.05242233107428035"
   ]
  },
  {
   "cell_type": "code",
   "execution_count": 2,
   "metadata": {},
   "outputs": [
    {
     "data": {
      "text/plain": [
       "-0.9100516674495068"
      ]
     },
     "execution_count": 2,
     "metadata": {},
     "output_type": "execute_result"
    }
   ],
   "source": [
    "0.9394081728511038 - 63 * 0.029356505401596993"
   ]
  },
  {
   "cell_type": "code",
   "execution_count": 62,
   "metadata": {},
   "outputs": [
    {
     "name": "stdout",
     "output_type": "stream",
     "text": [
      "E:\\Study\\毕业设计\\MRI-simulation\\kspaceTI5_0.pt\n",
      "tensor([[ 3.3572e-05+1.8680j, -1.8306e-01-1.8590j,  3.6445e-01+1.8321j,\n",
      "          ...,  5.4227e-01-1.7875j, -3.6439e-01+1.8321j,\n",
      "          1.8313e-01-1.8590j],\n",
      "        [-3.4914e-05-1.8680j,  1.8306e-01+1.8590j, -3.6445e-01-1.8321j,\n",
      "          ..., -5.4227e-01+1.7875j,  3.6439e-01-1.8321j,\n",
      "         -1.8312e-01+1.8590j],\n",
      "        [ 3.4449e-05+1.8680j, -1.8306e-01-1.8590j,  3.6445e-01+1.8321j,\n",
      "          ...,  5.4227e-01-1.7875j, -3.6439e-01+1.8321j,\n",
      "          1.8312e-01-1.8590j],\n",
      "        ...,\n",
      "        [-3.3325e-05-1.8680j,  1.8306e-01+1.8590j, -3.6445e-01-1.8321j,\n",
      "          ..., -5.4227e-01+1.7875j,  3.6439e-01-1.8321j,\n",
      "         -1.8312e-01+1.8590j],\n",
      "        [ 3.4334e-05+1.8680j, -1.8306e-01-1.8590j,  3.6445e-01+1.8321j,\n",
      "          ...,  5.4227e-01-1.7875j, -3.6439e-01+1.8321j,\n",
      "          1.8312e-01-1.8590j],\n",
      "        [-3.4718e-05-1.8680j,  1.8306e-01+1.8590j, -3.6445e-01-1.8321j,\n",
      "          ..., -5.4227e-01+1.7875j,  3.6439e-01-1.8321j,\n",
      "         -1.8313e-01+1.8590j]])\n",
      "E:\\Study\\毕业设计\\MRI-simulation\\kspaceTI3_0.pt\n",
      "tensor([[ 8.6345e-06+0.1919j, -1.8800e-02-0.1910j,  3.7444e-02+0.1882j,\n",
      "          ...,  5.5711e-02-0.1836j, -3.7426e-02+0.1882j,\n",
      "          1.8818e-02-0.1910j],\n",
      "        [-9.4721e-06-0.1919j,  1.8799e-02+0.1910j, -3.7445e-02-0.1882j,\n",
      "          ..., -5.5711e-02+0.1836j,  3.7426e-02-0.1882j,\n",
      "         -1.8817e-02+0.1910j],\n",
      "        [ 8.8945e-06+0.1919j, -1.8800e-02-0.1910j,  3.7444e-02+0.1882j,\n",
      "          ...,  5.5711e-02-0.1836j, -3.7426e-02+0.1882j,\n",
      "          1.8818e-02-0.1910j],\n",
      "        ...,\n",
      "        [-9.3477e-06-0.1919j,  1.8799e-02+0.1910j, -3.7445e-02-0.1882j,\n",
      "          ..., -5.5710e-02+0.1836j,  3.7427e-02-0.1882j,\n",
      "         -1.8817e-02+0.1910j],\n",
      "        [ 8.9748e-06+0.1919j, -1.8800e-02-0.1910j,  3.7444e-02+0.1882j,\n",
      "          ...,  5.5711e-02-0.1836j, -3.7426e-02+0.1882j,\n",
      "          1.8818e-02-0.1910j],\n",
      "        [-9.4210e-06-0.1919j,  1.8799e-02+0.1910j, -3.7445e-02-0.1882j,\n",
      "          ..., -5.5710e-02+0.1836j,  3.7426e-02-0.1882j,\n",
      "         -1.8817e-02+0.1910j]])\n",
      "E:\\Study\\毕业设计\\MRI-simulation\\kspaceTI5_1.pt\n",
      "tensor([[ 5.9950e-05-0.8638j,  8.4723e-02+0.8596j, -1.6845e-01-0.8472j,\n",
      "          ..., -2.5068e-01+0.8266j,  1.6857e-01-0.8471j,\n",
      "         -8.4602e-02+0.8596j],\n",
      "        [-6.0374e-05+0.8638j, -8.4724e-02-0.8596j,  1.6845e-01+0.8472j,\n",
      "          ...,  2.5068e-01-0.8266j, -1.6857e-01+0.8471j,\n",
      "          8.4603e-02-0.8596j],\n",
      "        [ 5.8413e-05-0.8638j,  8.4723e-02+0.8596j, -1.6845e-01-0.8472j,\n",
      "          ..., -2.5068e-01+0.8266j,  1.6857e-01-0.8471j,\n",
      "         -8.4602e-02+0.8596j],\n",
      "        ...,\n",
      "        [-6.0456e-05+0.8638j, -8.4724e-02-0.8596j,  1.6845e-01+0.8472j,\n",
      "          ...,  2.5068e-01-0.8266j, -1.6857e-01+0.8471j,\n",
      "          8.4604e-02-0.8596j],\n",
      "        [ 5.8488e-05-0.8638j,  8.4723e-02+0.8596j, -1.6845e-01-0.8472j,\n",
      "          ..., -2.5068e-01+0.8266j,  1.6857e-01-0.8471j,\n",
      "         -8.4602e-02+0.8596j],\n",
      "        [-6.0099e-05+0.8638j, -8.4724e-02-0.8596j,  1.6845e-01+0.8472j,\n",
      "          ...,  2.5068e-01-0.8266j, -1.6857e-01+0.8471j,\n",
      "          8.4604e-02-0.8596j]])\n",
      "E:\\Study\\毕业设计\\MRI-simulation\\kspaceTI3_1.pt\n",
      "tensor([[ 5.1186e-05-1.0138j,  9.9419e-02+1.0089j, -1.9773e-01-0.9943j,\n",
      "          ..., -2.9423e-01+0.9701j,  1.9783e-01-0.9943j,\n",
      "         -9.9316e-02+1.0089j],\n",
      "        [-5.2314e-05+1.0138j, -9.9420e-02-1.0089j,  1.9773e-01+0.9943j,\n",
      "          ...,  2.9423e-01-0.9701j, -1.9783e-01+0.9943j,\n",
      "          9.9317e-02-1.0089j],\n",
      "        [ 5.0851e-05-1.0138j,  9.9418e-02+1.0089j, -1.9773e-01-0.9943j,\n",
      "          ..., -2.9423e-01+0.9701j,  1.9783e-01-0.9943j,\n",
      "         -9.9316e-02+1.0089j],\n",
      "        ...,\n",
      "        [-5.3103e-05+1.0138j, -9.9420e-02-1.0089j,  1.9773e-01+0.9943j,\n",
      "          ...,  2.9423e-01-0.9701j, -1.9783e-01+0.9943j,\n",
      "          9.9318e-02-1.0089j],\n",
      "        [ 5.0683e-05-1.0138j,  9.9418e-02+1.0089j, -1.9773e-01-0.9943j,\n",
      "          ..., -2.9423e-01+0.9701j,  1.9783e-01-0.9943j,\n",
      "         -9.9316e-02+1.0089j],\n",
      "        [-5.2341e-05+1.0138j, -9.9420e-02-1.0089j,  1.9773e-01+0.9943j,\n",
      "          ...,  2.9423e-01-0.9701j, -1.9783e-01+0.9943j,\n",
      "          9.9318e-02-1.0089j]])\n",
      "E:\\Study\\毕业设计\\MRI-simulation\\kspaceTI5_2.pt\n",
      "tensor([[ 5.3711e-05-1.1082j,  1.0868e-01+1.1029j, -2.1616e-01-1.0870j,\n",
      "          ..., -3.2166e-01+1.0606j,  2.1626e-01-1.0869j,\n",
      "         -1.0857e-01+1.1029j],\n",
      "        [-5.3716e-05+1.1082j, -1.0868e-01-1.1029j,  2.1615e-01+1.0870j,\n",
      "          ...,  3.2166e-01-1.0605j, -2.1626e-01+1.0869j,\n",
      "          1.0858e-01-1.1029j],\n",
      "        [ 5.2059e-05-1.1083j,  1.0868e-01+1.1029j, -2.1616e-01-1.0870j,\n",
      "          ..., -3.2165e-01+1.0605j,  2.1626e-01-1.0869j,\n",
      "         -1.0857e-01+1.1029j],\n",
      "        ...,\n",
      "        [-5.2962e-05+1.1082j, -1.0868e-01-1.1029j,  2.1615e-01+1.0870j,\n",
      "          ...,  3.2166e-01-1.0605j, -2.1626e-01+1.0869j,\n",
      "          1.0858e-01-1.1029j],\n",
      "        [ 5.1992e-05-1.1083j,  1.0868e-01+1.1029j, -2.1616e-01-1.0870j,\n",
      "          ..., -3.2165e-01+1.0605j,  2.1626e-01-1.0869j,\n",
      "         -1.0857e-01+1.1029j],\n",
      "        [-5.3573e-05+1.1083j, -1.0868e-01-1.1029j,  2.1615e-01+1.0870j,\n",
      "          ...,  3.2166e-01-1.0605j, -2.1626e-01+1.0869j,\n",
      "          1.0858e-01-1.1029j]])\n",
      "E:\\Study\\毕业设计\\MRI-simulation\\kspaceTI3_2.pt\n",
      "tensor([[ 5.1721e-05-1.1217j,  1.1000e-01+1.1163j, -2.1878e-01-1.1001j,\n",
      "          ..., -3.2556e-01+1.0734j,  2.1888e-01-1.1001j,\n",
      "         -1.0989e-01+1.1163j],\n",
      "        [-5.2769e-05+1.1217j, -1.1000e-01-1.1163j,  2.1878e-01+1.1001j,\n",
      "          ...,  3.2556e-01-1.0734j, -2.1888e-01+1.1001j,\n",
      "          1.0989e-01-1.1163j],\n",
      "        [ 5.1210e-05-1.1217j,  1.0999e-01+1.1163j, -2.1878e-01-1.1001j,\n",
      "          ..., -3.2556e-01+1.0734j,  2.1888e-01-1.1001j,\n",
      "         -1.0989e-01+1.1163j],\n",
      "        ...,\n",
      "        [-5.0768e-05+1.1217j, -1.1000e-01-1.1163j,  2.1878e-01+1.1001j,\n",
      "          ...,  3.2556e-01-1.0734j, -2.1888e-01+1.1001j,\n",
      "          1.0989e-01-1.1163j],\n",
      "        [ 5.0806e-05-1.1217j,  1.0999e-01+1.1163j, -2.1878e-01-1.1001j,\n",
      "          ..., -3.2556e-01+1.0734j,  2.1888e-01-1.1001j,\n",
      "         -1.0989e-01+1.1163j],\n",
      "        [-5.2216e-05+1.1217j, -1.1000e-01-1.1163j,  2.1878e-01+1.1001j,\n",
      "          ...,  3.2556e-01-1.0734j, -2.1888e-01+1.1001j,\n",
      "          1.0989e-01-1.1163j]])\n",
      "E:\\Study\\毕业设计\\MRI-simulation\\kspaceTI5_3.pt\n",
      "tensor([[ 5.1369e-05-1.1301j,  1.1082e-01+1.1247j, -2.2043e-01-1.1084j,\n",
      "          ..., -3.2801e-01+1.0815j,  2.2053e-01-1.1084j,\n",
      "         -1.1072e-01+1.1247j],\n",
      "        [-5.2560e-05+1.1301j, -1.1083e-01-1.1247j,  2.2043e-01+1.1084j,\n",
      "          ...,  3.2801e-01-1.0815j, -2.2053e-01+1.1084j,\n",
      "          1.1072e-01-1.1247j],\n",
      "        [ 5.1114e-05-1.1301j,  1.1082e-01+1.1247j, -2.2043e-01-1.1084j,\n",
      "          ..., -3.2801e-01+1.0815j,  2.2053e-01-1.1084j,\n",
      "         -1.1072e-01+1.1247j],\n",
      "        ...,\n",
      "        [-5.0315e-05+1.1301j, -1.1083e-01-1.1247j,  2.2043e-01+1.1084j,\n",
      "          ...,  3.2801e-01-1.0815j, -2.2053e-01+1.1084j,\n",
      "          1.1072e-01-1.1247j],\n",
      "        [ 5.0670e-05-1.1301j,  1.1082e-01+1.1247j, -2.2043e-01-1.1084j,\n",
      "          ..., -3.2801e-01+1.0815j,  2.2053e-01-1.1084j,\n",
      "         -1.1072e-01+1.1247j],\n",
      "        [-5.1915e-05+1.1301j, -1.1082e-01-1.1247j,  2.2043e-01+1.1084j,\n",
      "          ...,  3.2801e-01-1.0815j, -2.2053e-01+1.1084j,\n",
      "          1.1072e-01-1.1247j]])\n",
      "E:\\Study\\毕业设计\\MRI-simulation\\kspaceTI5_4.pt\n",
      "tensor([[ 5.0920e-05-1.1321j,  1.1102e-01+1.1266j, -2.2081e-01-1.1104j,\n",
      "          ..., -3.2858e-01+1.0834j,  2.2091e-01-1.1103j,\n",
      "         -1.1091e-01+1.1267j],\n",
      "        [-5.1974e-05+1.1321j, -1.1102e-01-1.1266j,  2.2081e-01+1.1104j,\n",
      "          ...,  3.2858e-01-1.0834j, -2.2091e-01+1.1103j,\n",
      "          1.1092e-01-1.1267j],\n",
      "        [ 5.0303e-05-1.1321j,  1.1102e-01+1.1266j, -2.2081e-01-1.1104j,\n",
      "          ..., -3.2858e-01+1.0834j,  2.2091e-01-1.1103j,\n",
      "         -1.1091e-01+1.1267j],\n",
      "        ...,\n",
      "        [-5.0340e-05+1.1321j, -1.1102e-01-1.1266j,  2.2081e-01+1.1104j,\n",
      "          ...,  3.2858e-01-1.0834j, -2.2091e-01+1.1103j,\n",
      "          1.1092e-01-1.1267j],\n",
      "        [ 5.0393e-05-1.1321j,  1.1102e-01+1.1266j, -2.2081e-01-1.1104j,\n",
      "          ..., -3.2858e-01+1.0834j,  2.2091e-01-1.1103j,\n",
      "         -1.1092e-01+1.1267j],\n",
      "        [-5.2034e-05+1.1321j, -1.1102e-01-1.1266j,  2.2081e-01+1.1104j,\n",
      "          ...,  3.2858e-01-1.0834j, -2.2091e-01+1.1103j,\n",
      "          1.1092e-01-1.1267j]])\n"
     ]
    },
    {
     "data": {
      "image/png": "[encoded data removed]",
      "text/plain": [
       "<Figure size 640x480 with 8 Axes>"
      ]
     },
     "metadata": {},
     "output_type": "display_data"
    }
   ],
   "source": [
    "import torch\n",
    "x = torch.Tensor([ 117.5000,  297.5000,  547.5000,  727.5000,  977.5000, 1157.5000, 1407.5000, 1837.5000])\n",
    "name = 'E:\\Study\\毕业设计\\MRI-simulation\\kspace'\n",
    "li = []\n",
    "for key in range(len([5, 3])):\n",
    "    if key == 0:\n",
    "        for i in range(5):\n",
    "            li.append(name + \"TI5_\" + str(i) + \".pt\")\n",
    "    else:\n",
    "        for i in range(3):\n",
    "            li.append(name + \"TI3_\" + str(i) + \".pt\")\n",
    "data_li = []\n",
    "j = 0\n",
    "index = [0,5,1,6,2,7,3,4]\n",
    "# for path in li:\n",
    "for i in index:\n",
    "    data = torch.load(li[i]).cpu()\n",
    "    print(li[i])\n",
    "    ft_mat = torch.fft.ifft2(data)\n",
    "    ft_mat = torch.fft.ifftshift(ft_mat)\n",
    "    plt.subplot(2, 4, j + 1)\n",
    "    plt.imshow(ft_mat.abs().numpy())\n",
    "    print(ft_mat)\n",
    "    j += 1\n",
    "    data_li.append(ft_mat.abs().numpy())\n",
    "data_list = torch.asarray(data_li)\n",
    "plt.show()\n"
   ]
  },
  {
   "cell_type": "code",
   "execution_count": 42,
   "metadata": {},
   "outputs": [
    {
     "data": {
      "text/plain": [
       "tensor([ 117.5000,  297.5000,  547.5000,  727.5000,  977.5000, 1157.5000,\n",
       "        1407.5000, 1837.5000])"
      ]
     },
     "execution_count": 42,
     "metadata": {},
     "output_type": "execute_result"
    }
   ],
   "source": [
    "x"
   ]
  },
  {
   "cell_type": "code",
   "execution_count": 93,
   "metadata": {},
   "outputs": [
    {
     "data": {
      "image/png": "[encoded data removed]",
      "text/plain": [
       "<Figure size 640x480 with 1 Axes>"
      ]
     },
     "metadata": {},
     "output_type": "display_data"
    },
    {
     "name": "stdout",
     "output_type": "stream",
     "text": [
      "tensor([1.8680, 0.1919, 0.8638, 1.0138, 1.1082, 1.1217, 1.1301, 1.1321])\n"
     ]
    }
   ],
   "source": [
    "# index = [0,5,1,6,2,7,3,4]\n",
    "# data_list\n",
    "import matplotlib.pyplot as plt\n",
    "plt.scatter(x, data_list[:, 0, 0])\n",
    "plt.show()\n",
    "print(data_list[:, 0, 0])\n",
    "# TODO: 可能需要让所有值 - 1， 但是理论依据是什么？"
   ]
  },
  {
   "cell_type": "code",
   "execution_count": 112,
   "metadata": {},
   "outputs": [
    {
     "name": "stdout",
     "output_type": "stream",
     "text": [
      "tensor([0.1175, 0.2975, 0.5475, 0.7275, 0.9775, 1.1575, 1.4075, 1.8375])\n",
      "tensor([-1.8680,  0.1919,  0.8638,  1.0138,  1.1082,  1.1217,  1.1301,  1.1321])\n",
      "1.0 1.0 1.0 0.0\n"
     ]
    },
    {
     "data": {
      "image/png": "[encoded data removed]",
      "text/plain": [
       "<Figure size 640x480 with 1 Axes>"
      ]
     },
     "metadata": {},
     "output_type": "display_data"
    }
   ],
   "source": [
    "import numpy as np\n",
    "import copy\n",
    "def model(x, A, B, t1):\n",
    "    return A - B * np.exp(- x / t1)\n",
    "from scipy.optimize import curve_fit\n",
    "x = torch.Tensor([ 117.5000,  297.5000,  547.5000,  727.5000,  977.5000, 1157.5000, 1407.5000, 1837.5000]) * 1e-3\n",
    "print(x)\n",
    "y = copy.deepcopy(data_list[:, 0, 0])\n",
    "# y[0] *= -1\n",
    "print(y)\n",
    "plt.scatter(x, y)\n",
    "param, param_cov = curve_fit(model, x, y, p0=[1,1,1], maxfev = int(1e8))\n",
    "print(param[0], param[1], param[2], param[2] * (param[1] / param[0] - 1))\n",
    "\n",
    "x_temp = np.arange(x.min(), x.max(), 1)\n",
    "y = model(x, param[0], param[1], param[2])\n",
    "# plt.plot(x, y)\n",
    "plt.show()"
   ]
  },
  {
   "cell_type": "code",
   "execution_count": null,
   "metadata": {},
   "outputs": [],
   "source": []
  },
  {
   "cell_type": "code",
   "execution_count": null,
   "metadata": {},
   "outputs": [],
   "source": []
  }
 ],
 "metadata": {
  "kernelspec": {
   "display_name": "base",
   "language": "python",
   "name": "python3"
  },
  "language_info": {
   "codemirror_mode": {
    "name": "ipython",
    "version": 3
   },
   "file_extension": ".py",
   "mimetype": "text/x-python",
   "name": "python",
   "nbconvert_exporter": "python",
   "pygments_lexer": "ipython3",
   "version": "3.9.12"
  },
  "orig_nbformat": 4,
  "vscode": {
   "interpreter": {
    "hash": "861f9c34f7302a1aedb62edfc1533c524ce2793735e6b405602ea89eb9cb2484"
   }
  }
 },
 "nbformat": 4,
 "nbformat_minor": 2
}
